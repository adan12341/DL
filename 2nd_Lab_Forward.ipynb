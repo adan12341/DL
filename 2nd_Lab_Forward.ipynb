{
  "cells": [
    {
      "cell_type": "code",
      "execution_count": 2,
      "metadata": {
        "colab": {
          "base_uri": "https://localhost:8080/"
        },
        "id": "QcRtynLDYCOJ",
        "outputId": "65a48f96-72fd-4c3e-af7b-4d1a516b297b"
      },
      "outputs": [
        {
          "output_type": "stream",
          "name": "stdout",
          "text": [
            "Epoch 1:\n",
            "A2: [[0.78583498]\n",
            " [0.81757448]]\n",
            "A3: [[0.69823864]\n",
            " [0.66943113]]\n",
            "Z2: [[1.3]\n",
            " [1.5]]\n",
            "Z3: [[0.83892444]\n",
            " [0.70561329]]\n",
            "D2: [[0.00389172]\n",
            " [0.00521358]]\n",
            "D3: [[ 0.14558087]\n",
            " [-0.03234997]]\n",
            "W2: [[0.1 0.2 0.6]\n",
            " [0.4 0.3 0.1]]\n",
            "W3: [[0.2 0.1]\n",
            " [0.1 0.4]]\n",
            "b2: [[0.4]\n",
            " [0.2]]\n",
            "b3: [[0.6]\n",
            " [0.3]]\n",
            "----------------------------------------\n",
            "Epoch 2:\n",
            "A2: [[0.78583498]\n",
            " [0.81757448]]\n",
            "A3: [[0.69823864]\n",
            " [0.66943113]]\n",
            "Z2: [[1.3]\n",
            " [1.5]]\n",
            "Z3: [[0.83892444]\n",
            " [0.70561329]]\n",
            "D2: [[0.00389172]\n",
            " [0.00521358]]\n",
            "D3: [[ 0.14558087]\n",
            " [-0.03234997]]\n",
            "W2: [[0.1 0.2 0.6]\n",
            " [0.4 0.3 0.1]]\n",
            "W3: [[0.2 0.1]\n",
            " [0.1 0.4]]\n",
            "b2: [[0.4]\n",
            " [0.2]]\n",
            "b3: [[0.6]\n",
            " [0.3]]\n",
            "----------------------------------------\n"
          ]
        }
      ],
      "source": [
        "import numpy as np\n",
        "import matplotlib.pyplot as plt\n",
        "\n",
        "# Given values\n",
        "A1 = np.array([[3], [0], [1]])\n",
        "W2 = np.array([[0.1, 0.2, 0.6], [0.4, 0.3, 0.1]])\n",
        "W3 = np.array([[0.2, 0.1], [0.1, 0.4]])\n",
        "b2 = np.array([[0.4], [0.2]])\n",
        "b3 = np.array([[0.6], [0.3]])\n",
        "\n",
        "# Sigmoid activation function and its derivative\n",
        "def sigmoid(x):\n",
        "    return 1 / (1 + np.exp(-x))\n",
        "\n",
        "# Number of epochs\n",
        "epochs = 2\n",
        "\n",
        "# Loop through epochs\n",
        "for epoch in range(epochs):\n",
        "    # Forward pass calculations\n",
        "    Z2 = np.dot(W2, A1) + b2\n",
        "    A2 = sigmoid(Z2)\n",
        "\n",
        "    Z3 = np.dot(W3, A2) + b3\n",
        "    A3 = sigmoid(Z3)\n",
        "\n",
        "    # Print values for each epoch\n",
        "    print(f\"Epoch {epoch + 1}:\")\n",
        "    print(\"A2:\", A2)\n",
        "    print(\"A3:\", A3)\n",
        "    print(\"Z2:\", Z2)\n",
        "    print(\"Z3:\", Z3)\n",
        "    print(\"D2:\", D2)\n",
        "    print(\"D3:\", D3)\n",
        "    print(\"W2:\", W2)\n",
        "    print(\"W3:\", W3)\n",
        "    print(\"b2:\", b2)\n",
        "    print(\"b3:\", b3)\n",
        "    print(\"-\" * 40)"
      ]
    }
  ],
  "metadata": {
    "colab": {
      "provenance": []
    },
    "kernelspec": {
      "display_name": "Python 3 (ipykernel)",
      "language": "python",
      "name": "python3"
    },
    "language_info": {
      "codemirror_mode": {
        "name": "ipython",
        "version": 3
      },
      "file_extension": ".py",
      "mimetype": "text/x-python",
      "name": "python",
      "nbconvert_exporter": "python",
      "pygments_lexer": "ipython3",
      "version": "3.12.4"
    }
  },
  "nbformat": 4,
  "nbformat_minor": 0
}