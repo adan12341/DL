{
  "nbformat": 4,
  "nbformat_minor": 0,
  "metadata": {
    "colab": {
      "provenance": []
    },
    "kernelspec": {
      "name": "python3",
      "display_name": "Python 3"
    },
    "language_info": {
      "name": "python"
    }
  },
  "cells": [
    {
      "cell_type": "code",
      "execution_count": 3,
      "metadata": {
        "colab": {
          "base_uri": "https://localhost:8080/"
        },
        "id": "tZe5Kult2s_V",
        "outputId": "b93cb99e-4602-43c8-e121-a9793b195db6"
      },
      "outputs": [
        {
          "output_type": "stream",
          "name": "stdout",
          "text": [
            "Softmax Probabilities:\n",
            " [[0.51995003 0.19127893 0.07776821 0.11601653 0.0949863 ]\n",
            " [0.08004171 0.5914327  0.05929636 0.16118422 0.10804501]\n",
            " [0.03823122 0.04225203 0.6948197  0.06966182 0.15503523]\n",
            " [0.14174015 0.05762724 0.07038607 0.63523527 0.09501126]\n",
            " [0.11926553 0.17792327 0.07994608 0.08835408 0.53451104]]\n",
            "\n",
            "Log of Softmax Probabilities:\n",
            " [[-0.65402257 -1.65402257 -2.55402257 -2.15402257 -2.35402257]\n",
            " [-2.52520738 -0.52520738 -2.82520738 -1.82520738 -2.22520738]\n",
            " [-3.26410289 -3.16410289 -0.36410289 -2.66410289 -1.86410289]\n",
            " [-1.95375984 -2.85375984 -2.65375984 -0.45375984 -2.35375984]\n",
            " [-2.1264029  -1.7264029  -2.5264029  -2.4264029  -0.6264029 ]]\n",
            "\n",
            "y_true * log(probs):\n",
            " [[-0.65402257 -0.         -0.         -0.         -0.        ]\n",
            " [-0.         -0.52520738 -0.         -0.         -0.        ]\n",
            " [-0.         -0.         -0.36410289 -0.         -0.        ]\n",
            " [-0.         -0.         -0.         -0.45375984 -0.        ]\n",
            " [-0.         -0.         -0.         -0.         -0.6264029 ]]\n",
            "\n",
            "CE Loss per Sample: [0.65402257 0.52520738 0.36410289 0.45375984 0.6264029 ]\n",
            "\n",
            "Average CE Loss for the Dataset: 0.5246991144572238\n"
          ]
        }
      ],
      "source": [
        "import numpy as np\n",
        "\n",
        "# Ground truth labels (one-hot encoded)\n",
        "y_true = np.array([\n",
        "[1, 0, 0, 0, 0],  # Sample 1: Class 1\n",
        "[0, 1, 0, 0, 0],  # Sample 2: Class 2\n",
        "[0, 0, 1, 0, 0],  # Sample 3: Class 3\n",
        "[0, 0, 0, 1, 0],  # Sample 4: Class 4\n",
        "[0, 0, 0, 0, 1]  # Sample 5: Class 5\n",
        "\n",
        "])\n",
        "\n",
        "# Model predictions (logits)\n",
        "logits = np.array([\n",
        "[2.0, 1.0, 0.1, 0.5, 0.3],  # Sample 1\n",
        "[0.5, 2.5, 0.2, 1.2, 0.8],  # Sample 2\n",
        "[0.1, 0.2, 3.0, 0.7, 1.5],  # Sample 3\n",
        "[1.3, 0.4, 0.6, 2.8, 0.9],  # Sample 4\n",
        "[0.7, 1.1, 0.3, 0.4, 2.2]  # Sample 5\n",
        "\n",
        "])\n",
        "\n",
        "# Softmax function\n",
        "def softmax(x):\n",
        "    exp_x = np.exp(x - np.max(x, axis=-1, keepdims=True))  # Numerical stability\n",
        "    return exp_x / np.sum(exp_x, axis=-1, keepdims=True)\n",
        "\n",
        "# Compute softmax probabilities\n",
        "probs = softmax(logits)\n",
        "print(\"Softmax Probabilities:\\n\", probs)\n",
        "\n",
        "# Compute log(probs)\n",
        "log_probs = np.log(probs)\n",
        "print(\"\\nLog of Softmax Probabilities:\\n\", log_probs)\n",
        "\n",
        "# Compute y_true * log(probs)\n",
        "y_true_log_probs = y_true * log_probs\n",
        "print(\"\\ny_true * log(probs):\\n\", y_true_log_probs)\n",
        "\n",
        "# Compute CE loss for each sample\n",
        "ce_loss = -np.sum(y_true_log_probs, axis=-1)\n",
        "print(\"\\nCE Loss per Sample:\", ce_loss)\n",
        "\n",
        "# Average CE loss for the dataset\n",
        "avg_ce_loss = np.mean(ce_loss)\n",
        "print(\"\\nAverage CE Loss for the Dataset:\", avg_ce_loss)"
      ]
    }
  ]
}